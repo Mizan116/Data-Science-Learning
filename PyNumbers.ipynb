{
 "cells": [
  {
   "cell_type": "raw",
   "id": "93659c6b-6296-48b4-83ad-87e007de55da",
   "metadata": {},
   "source": [
    "Exercise: Numbers in python\n",
    "1. You have a football field that is 92 meter long and 48.8 meter wide. Find out total area using python and print it.\n",
    "2. You bought 9 packets of potato chips from a store. Each packet costs 1.49 dollar and you gave shopkeeper 20 dollar. Find out using python, how many dollars is the shopkeeper going to give you back?\n",
    "3. You want to replace tiles in your bathroom which is exactly square and 5.5 feet is its length. If tiles cost 500 rs per square feet, how much will be the total cost to replace all tiles. Calculate and print the cost using python (Hint: Use power operator ** to find area of a square)\n",
    "4. Print binary representation of number 17"
   ]
  },
  {
   "cell_type": "code",
   "execution_count": 1,
   "id": "4da560be-dc4b-4e7f-bdf4-d7272483ff9b",
   "metadata": {},
   "outputs": [
    {
     "name": "stdout",
     "output_type": "stream",
     "text": [
      "The area of the field is:  4489.600\n"
     ]
    }
   ],
   "source": [
    "long = 92\n",
    "wide = 48.8\n",
    "\n",
    "area = long*wide\n",
    "print(\"The area of the field is: \", '%.3f' %area)"
   ]
  },
  {
   "cell_type": "code",
   "execution_count": 2,
   "id": "15bff24c-0ada-4543-949d-a2463b824d0d",
   "metadata": {
    "scrolled": true
   },
   "outputs": [
    {
     "name": "stdout",
     "output_type": "stream",
     "text": [
      "The shopkeeper give me back:  6.59\n"
     ]
    }
   ],
   "source": [
    "noPacket = 9\n",
    "cost = 1.49\n",
    "total_cost = noPacket*cost\n",
    "print(\"The shopkeeper give me back: \", 20 - total_cost)\n"
   ]
  },
  {
   "cell_type": "code",
   "execution_count": 3,
   "id": "11fd2779-81d9-48ab-9a22-3e437be46934",
   "metadata": {},
   "outputs": [
    {
     "name": "stdout",
     "output_type": "stream",
     "text": [
      "Total cost:  15125.0\n"
     ]
    }
   ],
   "source": [
    "length = 5.5\n",
    "area = length**2\n",
    "cost = area * 500\n",
    "print(\"Total cost: \", cost)"
   ]
  },
  {
   "cell_type": "code",
   "execution_count": 8,
   "id": "576751e6-2713-4a7b-9067-f1f61665f5eb",
   "metadata": {},
   "outputs": [
    {
     "name": "stdout",
     "output_type": "stream",
     "text": [
      "110 \n"
     ]
    }
   ],
   "source": [
    "number = 6\n",
    "binary = \" \"\n",
    "while number > 0:\n",
    "    mod = number%2\n",
    "    binary = str(mod) + binary\n",
    "    number = number//2\n",
    "\n",
    "print(binary)"
   ]
  },
  {
   "cell_type": "code",
   "execution_count": 12,
   "id": "785a28b9-607d-4add-baa0-95cdcb911b42",
   "metadata": {},
   "outputs": [
    {
     "name": "stdout",
     "output_type": "stream",
     "text": [
      "10001\n"
     ]
    }
   ],
   "source": [
    "number = 17\n",
    "print(format(number, 'b'))"
   ]
  }
 ],
 "metadata": {
  "kernelspec": {
   "display_name": "Python 3 (ipykernel)",
   "language": "python",
   "name": "python3"
  },
  "language_info": {
   "codemirror_mode": {
    "name": "ipython",
    "version": 3
   },
   "file_extension": ".py",
   "mimetype": "text/x-python",
   "name": "python",
   "nbconvert_exporter": "python",
   "pygments_lexer": "ipython3",
   "version": "3.12.0"
  }
 },
 "nbformat": 4,
 "nbformat_minor": 5
}
