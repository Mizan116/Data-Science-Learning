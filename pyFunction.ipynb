{
 "cells": [
  {
   "cell_type": "raw",
   "id": "1f06a560-c90b-4027-8ef4-dc50a4a27f87",
   "metadata": {},
   "source": [
    "Write a function called calculate_area that takes base and height as an input and returns and area of a triangle."
   ]
  },
  {
   "cell_type": "code",
   "execution_count": 2,
   "id": "03671970-3f58-40ce-854a-f25e649d86ab",
   "metadata": {},
   "outputs": [
    {
     "name": "stdin",
     "output_type": "stream",
     "text": [
      "Enter the base here:  7\n",
      "Enter the height here:  4\n"
     ]
    },
    {
     "name": "stdout",
     "output_type": "stream",
     "text": [
      "The area is :  14.0\n"
     ]
    }
   ],
   "source": [
    "def calc_area(base, height):\n",
    "    area = .5*base*height\n",
    "    return area\n",
    "\n",
    "base = float(input(\"Enter the base here: \"))\n",
    "height = float(input(\"Enter the height here: \"))\n",
    "area = calc_area(base, height)\n",
    "\n",
    "print(\"The area is : \", area)"
   ]
  },
  {
   "cell_type": "code",
   "execution_count": 5,
   "id": "d7941d57-abdb-4523-9bbb-31c172152a6a",
   "metadata": {},
   "outputs": [
    {
     "name": "stdin",
     "output_type": "stream",
     "text": [
      "Enter the base here:  4\n",
      "Enter the height here:  9\n",
      "Enter the shape type:  Triangle\n"
     ]
    },
    {
     "name": "stdout",
     "output_type": "stream",
     "text": [
      "The area is :  18.0\n"
     ]
    }
   ],
   "source": [
    "#Modify above function to take third parameter shape type. It can be either \"triangle\" or \"rectangle\". Based on shape type it will calculate area.\n",
    "def calc_area(base, height,shape = \"Triangle\"):\n",
    "    if shape == \"Triangle\":\n",
    "        area = .5*base*height\n",
    "    elif shape == \"Rectangle\":\n",
    "        area = base*height\n",
    "        \n",
    "    return area\n",
    "\n",
    "base = float(input(\"Enter the base here: \"))\n",
    "height = float(input(\"Enter the height here: \"))\n",
    "shape = input(\"Enter the shape type: \")\n",
    "area = calc_area(base, height, shape)\n",
    "\n",
    "print(\"The area is : \", area)"
   ]
  },
  {
   "cell_type": "code",
   "execution_count": null,
   "id": "12bda817-fd00-4bf7-9b84-fb2930b40e66",
   "metadata": {},
   "outputs": [],
   "source": [
    "#pattern\n",
    "def pattern(n=3):\n",
    "    str = \"\"\n",
    "    for i in range(n):\n",
    "        str = "
   ]
  },
  {
   "cell_type": "code",
   "execution_count": null,
   "id": "1f7feb8b-d8a4-4986-b7d4-66c2fc69a73a",
   "metadata": {},
   "outputs": [],
   "source": []
  },
  {
   "cell_type": "code",
   "execution_count": null,
   "id": "cba5ab2d-d215-43d8-8e9d-6ad999f9601c",
   "metadata": {},
   "outputs": [],
   "source": []
  }
 ],
 "metadata": {
  "kernelspec": {
   "display_name": "Python 3 (ipykernel)",
   "language": "python",
   "name": "python3"
  },
  "language_info": {
   "codemirror_mode": {
    "name": "ipython",
    "version": 3
   },
   "file_extension": ".py",
   "mimetype": "text/x-python",
   "name": "python",
   "nbconvert_exporter": "python",
   "pygments_lexer": "ipython3",
   "version": "3.12.0"
  }
 },
 "nbformat": 4,
 "nbformat_minor": 5
}
