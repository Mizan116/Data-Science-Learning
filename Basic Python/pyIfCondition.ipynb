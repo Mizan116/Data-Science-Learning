{
 "cells": [
  {
   "cell_type": "raw",
   "id": "c57c783d-250e-412b-a5e0-85049597147f",
   "metadata": {},
   "source": [
    "india = [\"mumbai\", \"banglore\", \"chennai\", \"delhi\"]\n",
    "pakistan = [\"lahore\",\"karachi\",\"islamabad\"]\n",
    "bangladesh = [\"dhaka\", \"khulna\", \"rangpur\"]\n",
    "\n",
    "i. Write a program that asks user to enter a city name and it should tell which country the city belongs to\n",
    "ii. Write a program that asks user to enter two cities and it tells you if they both are in same country or not. For example if I enter mumbai and chennai, it will print \"Both cities are in India\" but if I enter mumbai and dhaka it should print \"They don't belong to same country\""
   ]
  },
  {
   "cell_type": "code",
   "execution_count": 7,
   "id": "19eefa3a-816a-4b7b-8d0a-f533b8095b12",
   "metadata": {},
   "outputs": [
    {
     "name": "stdin",
     "output_type": "stream",
     "text": [
      "Enter a city name here:  Banglore\n"
     ]
    },
    {
     "name": "stdout",
     "output_type": "stream",
     "text": [
      "banglore belongs to india\n"
     ]
    }
   ],
   "source": [
    "#i\n",
    "bangladesh = [\"dhaka\", \"khulna\", \"rangpur\"]\n",
    "india = [\"mumbai\", \"banglore\", \"chennai\", \"delhi\"]\n",
    "pakistan = [\"lahore\",\"karachi\",\"islamabad\"]\n",
    "\n",
    "city = input(\"Enter a city name here: \")\n",
    "city = city.lower()\n",
    "if city in bangladesh:\n",
    "    print(f\"{city} belongs to Bangladesh\")\n",
    "elif city in pakistan:\n",
    "    print(f\"{city} belongs to pakistan\")\n",
    "elif city in india:\n",
    "    print(f\"{city} belongs to india\")\n",
    "else:\n",
    "    print(\"idk!\")"
   ]
  },
  {
   "cell_type": "code",
   "execution_count": 10,
   "id": "b7133798-eff3-4b85-904a-90ffc65c6b25",
   "metadata": {},
   "outputs": [
    {
     "name": "stdin",
     "output_type": "stream",
     "text": [
      "Enter a city name here:  lahore\n",
      "Enter another city name here:  karachi\n"
     ]
    },
    {
     "name": "stdout",
     "output_type": "stream",
     "text": [
      "Boths are in pakistan\n"
     ]
    }
   ],
   "source": [
    "#ii\n",
    "city1 = input(\"Enter a city name here: \")\n",
    "city2 = input(\"Enter another city name here: \")\n",
    "city1 = city1.lower()\n",
    "city2 = city2.lower()\n",
    "if city1 and city2 in bangladesh:\n",
    "    print(f\"Boths are in Bangladesh\")\n",
    "elif city1 and city2 in pakistan:\n",
    "    print(f\"Boths are in pakistan\")\n",
    "elif city1 and city2 in india:\n",
    "    print(f\"Boths are in india\")\n",
    "else:\n",
    "    print(\"idk!\")"
   ]
  },
  {
   "cell_type": "raw",
   "id": "64175b6d-1790-4a39-95ae-b652f73e26de",
   "metadata": {},
   "source": [
    "Write a python program that can tell you if your sugar is normal or not. Normal fasting level sugar range is 80 to 100.\n",
    "    i. Ask user to enter his fasting sugar level\n",
    "    ii. If it is below 80 to 100 range then print that sugar is low\n",
    "    iii. If it is above 100 then print that it is high otherwise print that it is normal"
   ]
  },
  {
   "cell_type": "code",
   "execution_count": 13,
   "id": "a72201a1-ddfd-4c8a-883e-318454145f90",
   "metadata": {},
   "outputs": [
    {
     "name": "stdin",
     "output_type": "stream",
     "text": [
      "enter your sugar level:  89\n"
     ]
    },
    {
     "name": "stdout",
     "output_type": "stream",
     "text": [
      "Normal!\n"
     ]
    }
   ],
   "source": [
    "#i\n",
    "sugar = int(input(\"enter your sugar level: \"))\n",
    "\n",
    "if sugar<80:\n",
    "    print(\"Low level\")\n",
    "elif sugar>100:\n",
    "    print(\"High level\")\n",
    "else:\n",
    "    print(\"Normal!\")"
   ]
  },
  {
   "cell_type": "code",
   "execution_count": null,
   "id": "bdf0f8c5-c082-46e5-ac4b-4a3026d51ca0",
   "metadata": {},
   "outputs": [],
   "source": []
  },
  {
   "cell_type": "code",
   "execution_count": null,
   "id": "679996f1-d528-4e6a-9be6-916dbde2a681",
   "metadata": {},
   "outputs": [],
   "source": []
  }
 ],
 "metadata": {
  "kernelspec": {
   "display_name": "Python 3 (ipykernel)",
   "language": "python",
   "name": "python3"
  },
  "language_info": {
   "codemirror_mode": {
    "name": "ipython",
    "version": 3
   },
   "file_extension": ".py",
   "mimetype": "text/x-python",
   "name": "python",
   "nbconvert_exporter": "python",
   "pygments_lexer": "ipython3",
   "version": "3.12.0"
  }
 },
 "nbformat": 4,
 "nbformat_minor": 5
}
