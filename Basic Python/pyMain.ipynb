{
 "cells": [
  {
   "cell_type": "code",
   "execution_count": 1,
   "id": "8eccd9ff-9e6a-4daa-80f2-f95d3e1c1b2d",
   "metadata": {},
   "outputs": [
    {
     "name": "stdout",
     "output_type": "stream",
     "text": [
      "The area of a traingle is:  5.0\n"
     ]
    }
   ],
   "source": [
    "def calcArea(base,height):\n",
    "    return 1/2*(base*height)\n",
    "\n",
    "if __name__ == \"__main__\":\n",
    "    a = calcArea(2,5)\n",
    "    print(\"The area of a traingle is: \",a)"
   ]
  },
  {
   "cell_type": "code",
   "execution_count": 4,
   "id": "3ee3a090-a43e-4911-bf16-2a1eafaf50e5",
   "metadata": {},
   "outputs": [
    {
     "name": "stdin",
     "output_type": "stream",
     "text": [
      "Enter a number: 23\n",
      "Enter another number: 0\n"
     ]
    },
    {
     "name": "stdout",
     "output_type": "stream",
     "text": [
      "Division is tried by Zero!\n",
      "None\n"
     ]
    }
   ],
   "source": [
    "x = input(\"Enter a number:\")\n",
    "y = input(\"Enter another number:\")\n",
    "\n",
    "try:\n",
    "    z = int(x)/int(y)\n",
    "except ZeroDivisionError as e:\n",
    "    print(\"Division is tried by Zero!\")\n",
    "    z = None\n",
    "print(z)"
   ]
  },
  {
   "cell_type": "code",
   "execution_count": null,
   "id": "ff749353-edff-42ff-9570-2258c48e5b4f",
   "metadata": {},
   "outputs": [],
   "source": []
  }
 ],
 "metadata": {
  "kernelspec": {
   "display_name": "Python 3 (ipykernel)",
   "language": "python",
   "name": "python3"
  },
  "language_info": {
   "codemirror_mode": {
    "name": "ipython",
    "version": 3
   },
   "file_extension": ".py",
   "mimetype": "text/x-python",
   "name": "python",
   "nbconvert_exporter": "python",
   "pygments_lexer": "ipython3",
   "version": "3.12.0"
  }
 },
 "nbformat": 4,
 "nbformat_minor": 5
}
