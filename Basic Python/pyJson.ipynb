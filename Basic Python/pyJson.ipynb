{
 "cells": [
  {
   "cell_type": "code",
   "execution_count": 7,
   "id": "1f122452-be07-4fe8-9f2e-1f5a8764d6d8",
   "metadata": {},
   "outputs": [
    {
     "name": "stderr",
     "output_type": "stream",
     "text": [
      "<>:16: SyntaxWarning: invalid escape sequence '\\J'\n",
      "<>:16: SyntaxWarning: invalid escape sequence '\\J'\n",
      "C:\\Users\\ASUS\\AppData\\Local\\Temp\\ipykernel_4440\\919760256.py:16: SyntaxWarning: invalid escape sequence '\\J'\n",
      "  with open(\"H:\\JN\\json.txt\",'w') as f:\n"
     ]
    }
   ],
   "source": [
    "book = {}\n",
    "\n",
    "book['Tom'] = {\n",
    "    'Name':'Tom',\n",
    "    'Adress': 'Childhood',\n",
    "    'Phone' : 'Unavailable Now!'\n",
    "}\n",
    "\n",
    "book['Jerry'] = {\n",
    "    'Name':'Jerry',\n",
    "    'Adress': 'Childhood',\n",
    "    'Phone' : 'Unavailable Now!'\n",
    "}\n",
    "import json\n",
    "s = json.dumps(book)\n",
    "with open(\"H:\\JN\\json.txt\",'w') as f:\n",
    "    f.write(s)"
   ]
  },
  {
   "cell_type": "code",
   "execution_count": 9,
   "id": "7a74aa9f-20bf-4476-a3a1-6047a47f657f",
   "metadata": {},
   "outputs": [
    {
     "name": "stdout",
     "output_type": "stream",
     "text": [
      "{\"Tom\": {\"Name\": \"Tom\", \"Adress\": \"Childhood\", \"Phone\": \"Unavailable Now!\"}, \"Jerry\": {\"Name\": \"Jerry\", \"Adress\": \"Childhood\", \"Phone\": \"Unavailable Now!\"}}\n"
     ]
    },
    {
     "name": "stderr",
     "output_type": "stream",
     "text": [
      "<>:1: SyntaxWarning: invalid escape sequence '\\J'\n",
      "<>:1: SyntaxWarning: invalid escape sequence '\\J'\n",
      "C:\\Users\\ASUS\\AppData\\Local\\Temp\\ipykernel_4440\\3119591866.py:1: SyntaxWarning: invalid escape sequence '\\J'\n",
      "  f = open(\"H:\\JN\\json.txt\", 'r')\n"
     ]
    }
   ],
   "source": [
    "f = open(\"H:\\JN\\json.txt\", 'r')\n",
    "k = f.read()\n",
    "print(k)"
   ]
  },
  {
   "cell_type": "code",
   "execution_count": 11,
   "id": "22678053-20ef-4ac7-8f17-ba4000279e7c",
   "metadata": {},
   "outputs": [
    {
     "data": {
      "text/plain": [
       "str"
      ]
     },
     "execution_count": 11,
     "metadata": {},
     "output_type": "execute_result"
    }
   ],
   "source": [
    "type(k)"
   ]
  },
  {
   "cell_type": "code",
   "execution_count": 13,
   "id": "b15e20bd-0459-4139-8501-ddf8723143bc",
   "metadata": {},
   "outputs": [
    {
     "name": "stdout",
     "output_type": "stream",
     "text": [
      "{'Tom': {'Name': 'Tom', 'Adress': 'Childhood', 'Phone': 'Unavailable Now!'}, 'Jerry': {'Name': 'Jerry', 'Adress': 'Childhood', 'Phone': 'Unavailable Now!'}}\n"
     ]
    },
    {
     "data": {
      "text/plain": [
       "dict"
      ]
     },
     "execution_count": 13,
     "metadata": {},
     "output_type": "execute_result"
    }
   ],
   "source": [
    "test = json.loads(k)\n",
    "print(test)\n",
    "type(test)"
   ]
  },
  {
   "cell_type": "code",
   "execution_count": 14,
   "id": "fa12b743-e3d3-4397-9540-4b3a52d81ec9",
   "metadata": {},
   "outputs": [
    {
     "data": {
      "text/plain": [
       "{'Name': 'Tom', 'Adress': 'Childhood', 'Phone': 'Unavailable Now!'}"
      ]
     },
     "execution_count": 14,
     "metadata": {},
     "output_type": "execute_result"
    }
   ],
   "source": [
    "test['Tom']"
   ]
  },
  {
   "cell_type": "code",
   "execution_count": 15,
   "id": "01342cdc-be8d-4eb3-85ed-b628f8a0cd49",
   "metadata": {},
   "outputs": [
    {
     "data": {
      "text/plain": [
       "'Unavailable Now!'"
      ]
     },
     "execution_count": 15,
     "metadata": {},
     "output_type": "execute_result"
    }
   ],
   "source": [
    "test['Jerry'][\"Phone\"]"
   ]
  },
  {
   "cell_type": "code",
   "execution_count": 23,
   "id": "84a4242c-8bb1-40f9-a901-c1c2a3184d5e",
   "metadata": {},
   "outputs": [
    {
     "name": "stdout",
     "output_type": "stream",
     "text": [
      "Tom : Childhood\n",
      "Jerry : Childhood\n"
     ]
    }
   ],
   "source": [
    "for person in test:\n",
    "    print(test[person]['Name'], \":\", test[person][\"Adress\"])"
   ]
  }
 ],
 "metadata": {
  "kernelspec": {
   "display_name": "Python 3 (ipykernel)",
   "language": "python",
   "name": "python3"
  },
  "language_info": {
   "codemirror_mode": {
    "name": "ipython",
    "version": 3
   },
   "file_extension": ".py",
   "mimetype": "text/x-python",
   "name": "python",
   "nbconvert_exporter": "python",
   "pygments_lexer": "ipython3",
   "version": "3.12.0"
  }
 },
 "nbformat": 4,
 "nbformat_minor": 5
}
