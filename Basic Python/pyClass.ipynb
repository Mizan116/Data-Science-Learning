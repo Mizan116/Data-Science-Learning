{
 "cells": [
  {
   "cell_type": "code",
   "execution_count": 24,
   "id": "79ec2c38-edd7-4c05-b4ae-dc8c4dcc8212",
   "metadata": {},
   "outputs": [
    {
     "name": "stdout",
     "output_type": "stream",
     "text": [
      "Tom cruise Working in film\n",
      "Amar code kaj korse na!\n",
      "Sania Mirja Playing Tennis game\n",
      "Amar code kaj korse na!\n"
     ]
    }
   ],
   "source": [
    "class Human:\n",
    "    def __init__(self , n , o):\n",
    "        self.name = n\n",
    "        self.occupation = o\n",
    "    def do_work(self):\n",
    "        if self.occupation == \"Tennis\":\n",
    "            print(self.name, \"Playing Tennis game\")\n",
    "        elif self.occupation == \"Actor\":\n",
    "            print(self.name, \"Working in film\")\n",
    "    def speak(self):\n",
    "        print(\"Amar code kaj korse na!\")\n",
    "\n",
    "tom = Human(\"Tom cruise\",\"Actor\")\n",
    "tom.do_work()\n",
    "tom.speak()\n",
    "\n",
    "sania = Human(\"Sania Mirja\",\"Tennis\")\n",
    "sania.do_work()\n",
    "sania.speak()"
   ]
  },
  {
   "cell_type": "code",
   "execution_count": 32,
   "id": "0ced0c07-d668-44e3-81d5-b09a7ad48e73",
   "metadata": {},
   "outputs": [
    {
     "name": "stdout",
     "output_type": "stream",
     "text": [
      "Id:1 \n",
      "Name:coder\n"
     ]
    }
   ],
   "source": [
    "class Employee:\n",
    "    def __init__(self, Id, name):\n",
    "        self.Id = Id\n",
    "        self.name = name\n",
    "    def display(self):\n",
    "        print(f\"Id:{self.Id} \\nName:{self.name}\")\n",
    "\n",
    "\n",
    "# Creating a emp instance of Employee class\n",
    "emp = Employee(1, \"coder\")\n",
    "emp.display()"
   ]
  },
  {
   "cell_type": "code",
   "execution_count": null,
   "id": "ab796dd4-e387-4748-aa8e-7783beec9c3d",
   "metadata": {},
   "outputs": [],
   "source": []
  }
 ],
 "metadata": {
  "kernelspec": {
   "display_name": "Python 3 (ipykernel)",
   "language": "python",
   "name": "python3"
  },
  "language_info": {
   "codemirror_mode": {
    "name": "ipython",
    "version": 3
   },
   "file_extension": ".py",
   "mimetype": "text/x-python",
   "name": "python",
   "nbconvert_exporter": "python",
   "pygments_lexer": "ipython3",
   "version": "3.12.0"
  }
 },
 "nbformat": 4,
 "nbformat_minor": 5
}
