{
 "cells": [
  {
   "cell_type": "raw",
   "id": "04f54622-a9cf-4463-aa61-fc1f7642bc37",
   "metadata": {},
   "source": [
    "1. Create 3 variables to store street, city and country, now create address variable to store entire address. Use two ways of creating this variable, one using + operator and the other using f-string. Now Print the address in such a way that the street, city and country prints in a separate line\n",
    "2. Create a variable to store the string \"Earth revolves around the sun\"\n",
    "    Print \"revolves\" using slice operator\n",
    "    Print \"sun\" using negative index\n",
    "3. Create two variables to store how many fruits and vegetables you eat in a day. Now Print \"I eat x veggies and y fruits daily\" where x and y presents vegetables and fruits that you eat everyday. Use python f string for this.\n",
    "4. I have a string variable called s='Ami 200 kola khai'. This of course is a wrong statement, the correct statement is 'ami 10 samosa khai'. Replace incorrect words in original strong with new ones and print the new string. Also try to do this in one line."
   ]
  },
  {
   "cell_type": "code",
   "execution_count": 4,
   "id": "5573d1cf-dc96-40c1-966d-eedeaf35ba1a",
   "metadata": {},
   "outputs": [
    {
     "name": "stdout",
     "output_type": "stream",
     "text": [
      "\n",
      "Raozan - kaptai road\n",
      "Chittagong\n",
      "Bangladesh\n",
      "\n",
      "Raozan - kaptai road\n",
      "Chittagong\n",
      "Bangladesh\n"
     ]
    }
   ],
   "source": [
    "street = \"Raozan - kaptai road\"\n",
    "city = \"Chittagong\"\n",
    "country = \"Bangladesh\"\n",
    "\n",
    "address = f'''\n",
    "{street}\n",
    "{city}\n",
    "{country}\n",
    "'''\n",
    "print(address)\n",
    "\n",
    "add = street + '\\n' + city + '\\n' + country\n",
    "print(add)"
   ]
  },
  {
   "cell_type": "code",
   "execution_count": 11,
   "id": "fe3274bc-82a1-40f8-89f4-c716fb4b2f18",
   "metadata": {},
   "outputs": [
    {
     "name": "stdout",
     "output_type": "stream",
     "text": [
      "revolves\n",
      "sun\n"
     ]
    }
   ],
   "source": [
    "str = \"Earth revolves around the sun\"\n",
    "print(str[6:14])\n",
    "print(str[-3:])"
   ]
  },
  {
   "cell_type": "code",
   "execution_count": 12,
   "id": "c78dcf43-734c-43bf-8ac0-66c4c41307f2",
   "metadata": {},
   "outputs": [
    {
     "name": "stdout",
     "output_type": "stream",
     "text": [
      "I eat 10 veggies and 5 fruits daily \n"
     ]
    }
   ],
   "source": [
    "fruits = 5\n",
    "vegetables = 10\n",
    "print(f'I eat {vegetables} veggies and {fruits} fruits daily ')"
   ]
  },
  {
   "cell_type": "code",
   "execution_count": 14,
   "id": "9e86d770-22f3-4808-afa2-a273966331e3",
   "metadata": {},
   "outputs": [
    {
     "name": "stdout",
     "output_type": "stream",
     "text": [
      "Ami 10 samosa khai\n"
     ]
    }
   ],
   "source": [
    "w_s = \"Ami 200 kola khai\"\n",
    "r_s = \"Ami 10 samosa khai\"\n",
    "\n",
    "right = w_s[:4] + r_s[4:13] + w_s[-5:]\n",
    "print(right)\n",
    "\n"
   ]
  },
  {
   "cell_type": "code",
   "execution_count": 17,
   "id": "365b0b46-4f08-4dd6-ace4-f387aebc88c7",
   "metadata": {},
   "outputs": [
    {
     "name": "stdout",
     "output_type": "stream",
     "text": [
      "Ami 10 samosa khai\n"
     ]
    }
   ],
   "source": [
    "s = \"Ami 200 kola khai\"\n",
    "s = s.replace('kola','samosa').replace('200', '10')\n",
    "print(s)"
   ]
  }
 ],
 "metadata": {
  "kernelspec": {
   "display_name": "Python 3 (ipykernel)",
   "language": "python",
   "name": "python3"
  },
  "language_info": {
   "codemirror_mode": {
    "name": "ipython",
    "version": 3
   },
   "file_extension": ".py",
   "mimetype": "text/x-python",
   "name": "python",
   "nbconvert_exporter": "python",
   "pygments_lexer": "ipython3",
   "version": "3.12.0"
  }
 },
 "nbformat": 4,
 "nbformat_minor": 5
}
