{
 "cells": [
  {
   "cell_type": "code",
   "execution_count": 40,
   "id": "61a5d643-051b-4720-b159-ac44035bf47e",
   "metadata": {},
   "outputs": [],
   "source": [
    "f = open(\"H:\\\\JN\\\\funny.txt\",\"w\")\n",
    "f.write(\"Hi\")\n",
    "f.close()"
   ]
  },
  {
   "cell_type": "code",
   "execution_count": 41,
   "id": "17ce420b-61d5-4276-8014-a8a277c231c5",
   "metadata": {},
   "outputs": [],
   "source": [
    "f = open(\"H:\\\\JN\\\\funny.txt\", \"a\")\n",
    "f.write(\"\\nI have to love someone! \\nBut alas! I haven't found anyone yet.\")\n",
    "f.close()"
   ]
  },
  {
   "cell_type": "code",
   "execution_count": 42,
   "id": "8840a274-d235-4409-b6c5-ebb17af0fb99",
   "metadata": {},
   "outputs": [
    {
     "name": "stdout",
     "output_type": "stream",
     "text": [
      "Hi\n",
      "I have to love someone! \n",
      "But alas! I haven't found anyone yet.\n"
     ]
    }
   ],
   "source": [
    "f = open(\"H:\\\\JN\\\\funny.txt\", 'r')\n",
    "print(f.read())\n",
    "f.close()"
   ]
  },
  {
   "cell_type": "code",
   "execution_count": 43,
   "id": "c5ba9bdc-a2d9-485f-badc-98bb22054680",
   "metadata": {},
   "outputs": [
    {
     "name": "stdout",
     "output_type": "stream",
     "text": [
      "1\n",
      "6\n",
      "7\n"
     ]
    }
   ],
   "source": [
    "f = open(\"H:\\\\JN\\\\funny.txt\", 'r')\n",
    "for line in f:\n",
    "    tokens = line.split(' ')\n",
    "    print(len(tokens))\n",
    "f.close()"
   ]
  },
  {
   "cell_type": "code",
   "execution_count": 46,
   "id": "ad094eda-722b-40a3-9dd5-832a0882d86e",
   "metadata": {},
   "outputs": [
    {
     "name": "stdout",
     "output_type": "stream",
     "text": [
      "Written successful\n"
     ]
    }
   ],
   "source": [
    "f = open(\"H:\\\\JN\\\\funny.txt\", 'r')\n",
    "f1 = open(\"H:\\\\JN\\\\copy_funny.txt\", \"w\")\n",
    "for line in f:\n",
    "    tokens = line.split(' ')\n",
    "    f1.write( line + \":\" + str(len(tokens))) \n",
    "print(\"Written successful\")\n",
    "f1.close()\n",
    "f.close()"
   ]
  }
 ],
 "metadata": {
  "kernelspec": {
   "display_name": "Python 3 (ipykernel)",
   "language": "python",
   "name": "python3"
  },
  "language_info": {
   "codemirror_mode": {
    "name": "ipython",
    "version": 3
   },
   "file_extension": ".py",
   "mimetype": "text/x-python",
   "name": "python",
   "nbconvert_exporter": "python",
   "pygments_lexer": "ipython3",
   "version": "3.12.0"
  }
 },
 "nbformat": 4,
 "nbformat_minor": 5
}
