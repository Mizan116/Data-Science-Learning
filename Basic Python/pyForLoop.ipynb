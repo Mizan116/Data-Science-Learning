{
 "cells": [
  {
   "cell_type": "raw",
   "id": "847e7b20-dd54-4514-8e28-a49af59875cb",
   "metadata": {},
   "source": [
    "1. After flipping a coin 10 times you got this result,\n",
    "    result = [\"heads\",\"tails\",\"tails\",\"heads\",\"tails\",\"heads\",\"heads\",\"tails\",\"tails\",\"tails\"]\n",
    "Using for loop figure out how many times you got heads"
   ]
  },
  {
   "cell_type": "code",
   "execution_count": 2,
   "id": "4b6108d0-ede3-45d7-8a87-b32220a68fe7",
   "metadata": {},
   "outputs": [
    {
     "name": "stdout",
     "output_type": "stream",
     "text": [
      "4\n"
     ]
    }
   ],
   "source": [
    "result = [\"heads\",\"tails\",\"tails\",\"heads\",\"tails\",\"heads\",\"heads\",\"tails\",\"tails\",\"tails\"]\n",
    "count = 0\n",
    "\n",
    "for i in range(len(result)):\n",
    "    if result[i] == \"heads\":\n",
    "        count+=1\n",
    "\n",
    "print(count)"
   ]
  },
  {
   "cell_type": "raw",
   "id": "6006c7b5-afbb-443d-a9a5-f46e91b3a5bf",
   "metadata": {},
   "source": [
    "2. Print square of all numbers between 1 to 10 except even numbers"
   ]
  },
  {
   "cell_type": "code",
   "execution_count": 4,
   "id": "7a960a67-38d8-495f-8a4c-0e062fa94a95",
   "metadata": {},
   "outputs": [
    {
     "name": "stdout",
     "output_type": "stream",
     "text": [
      "1\n",
      "9\n",
      "25\n",
      "49\n",
      "81\n"
     ]
    }
   ],
   "source": [
    "for i in range(1,11):\n",
    "    if i%2==0:\n",
    "        continue\n",
    "    else:\n",
    "        print(i**2)"
   ]
  },
  {
   "cell_type": "raw",
   "id": "98e5f64f-1123-4985-9673-f25d83f57473",
   "metadata": {},
   "source": [
    "3. Your monthly expense list (from Jan to May) looks like this,\n",
    "    expense_list = [2340, 2500, 2100, 3100, 2980]\n",
    "Write a program that asks you to enter an expense amount and program should tell you in which month that expense occurred. If expense is not found then it should print that as well."
   ]
  },
  {
   "cell_type": "code",
   "execution_count": 9,
   "id": "0ed357bf-075a-43ca-921f-d256a033e05d",
   "metadata": {},
   "outputs": [
    {
     "name": "stdin",
     "output_type": "stream",
     "text": [
      "Enter your expense 2980\n"
     ]
    },
    {
     "name": "stdout",
     "output_type": "stream",
     "text": [
      "The month is:  5\n"
     ]
    }
   ],
   "source": [
    "expense_list = [2340, 2500, 2100, 3100, 2980]\n",
    "expense = int(input(\"Enter your expense\"))\n",
    "c = 0\n",
    "for i in range(len(expense_list)):\n",
    "    if(expense == expense_list[i]):\n",
    "        print(\"The month is: \", i+1)\n",
    "        c =1\n",
    "        break\n",
    "if c==0:\n",
    "    print(\"Not found\")"
   ]
  },
  {
   "cell_type": "raw",
   "id": "4639edea-b8ce-4961-9993-4f378b2ae0f7",
   "metadata": {},
   "source": [
    "4. Lets say you are running a 5 km race. Write a program that,\n",
    "\n",
    "Upon completing each 1 km asks you \"are you tired?\"\n",
    "i. If you reply \"yes\" then it should break and print \"you didn't finish the race\"\n",
    "ii. If you reply \"no\" then it should continue and ask \"are you tired\" on every km\n",
    "iii. If you finish all 5 km then it should print congratulations message"
   ]
  },
  {
   "cell_type": "code",
   "execution_count": 21,
   "id": "58579191-cd5b-41ba-b265-f147fab8a55e",
   "metadata": {},
   "outputs": [
    {
     "name": "stdout",
     "output_type": "stream",
     "text": [
      "You ran 1 miles\n"
     ]
    },
    {
     "name": "stdin",
     "output_type": "stream",
     "text": [
      "Are you tired?  yes\n"
     ]
    },
    {
     "name": "stdout",
     "output_type": "stream",
     "text": [
      "You didn't finish 5 km race but hey congrats anyways! You still ran {i+1} miles\n"
     ]
    }
   ],
   "source": [
    "for i in range(5):\n",
    "    print(f\"You ran {i+1} miles\") \n",
    "    tired = input(\"Are you tired? \")\n",
    "    if tired == 'yes':\n",
    "        break\n",
    "\n",
    "if i == 4:\n",
    "    print(\"Hurray! You are a rock star! You just finished 5 km race!\")\n",
    "else:\n",
    "    print(\"You didn't finish 5 km race but hey congrats anyways! You still ran {i+1} miles\")\n"
   ]
  },
  {
   "cell_type": "raw",
   "id": "d46c2749-b426-4b6d-94bc-8643110398c4",
   "metadata": {},
   "source": [
    "Write a program that prints following shape\n",
    "\n",
    "*\n",
    "**\n",
    "***\n",
    "****\n",
    "*****\n"
   ]
  },
  {
   "cell_type": "code",
   "execution_count": 32,
   "id": "15b3d137-5ac5-49e0-b799-b1da38b900e6",
   "metadata": {},
   "outputs": [
    {
     "name": "stdout",
     "output_type": "stream",
     "text": [
      "*\n",
      "**\n",
      "***\n",
      "****\n",
      "*****\n"
     ]
    }
   ],
   "source": [
    "str = \"\"\n",
    "for i in range(1, 6):\n",
    "    str = str + \"*\"\n",
    "    print(str)"
   ]
  },
  {
   "cell_type": "code",
   "execution_count": null,
   "id": "dbb173f3-a6d9-41e4-a292-72f7e7548daa",
   "metadata": {},
   "outputs": [],
   "source": []
  }
 ],
 "metadata": {
  "kernelspec": {
   "display_name": "Python 3 (ipykernel)",
   "language": "python",
   "name": "python3"
  },
  "language_info": {
   "codemirror_mode": {
    "name": "ipython",
    "version": 3
   },
   "file_extension": ".py",
   "mimetype": "text/x-python",
   "name": "python",
   "nbconvert_exporter": "python",
   "pygments_lexer": "ipython3",
   "version": "3.12.0"
  }
 },
 "nbformat": 4,
 "nbformat_minor": 5
}
