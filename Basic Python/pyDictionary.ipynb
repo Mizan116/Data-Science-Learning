{
 "cells": [
  {
   "cell_type": "code",
   "execution_count": 5,
   "id": "6f74dcc4-10a5-4529-9a68-d0dc6761914e",
   "metadata": {},
   "outputs": [
    {
     "name": "stdout",
     "output_type": "stream",
     "text": [
      "{'Mizan': 1019779, 'Azharul': 2017893, 'Nahid': 4015689}\n"
     ]
    }
   ],
   "source": [
    "d = {\n",
    "    \"Mizan\": 1019779,\n",
    "    \"Azharul\": 2017893,\n",
    "    \"Nahid\": 4015689\n",
    "}\n",
    "print(d)"
   ]
  },
  {
   "cell_type": "code",
   "execution_count": 12,
   "id": "b218a369-5981-46e0-899e-88eb9674f54e",
   "metadata": {},
   "outputs": [
    {
     "name": "stdout",
     "output_type": "stream",
     "text": [
      "Key: Mizan Value: 1019779\n",
      "Key: Azharul Value: 2017893\n",
      "Key: Nahid Value: 4015689\n"
     ]
    }
   ],
   "source": [
    "for key in d:\n",
    "    print(\"Key:\", key, \"Value:\", d[key] )"
   ]
  },
  {
   "cell_type": "raw",
   "id": "56f510c8-124b-42a8-91b8-ee5a023684d7",
   "metadata": {},
   "source": [
    "1. We have following information on countries and their population (population is in crores),\n",
    "\n",
    "Country\tPopulation\n",
    "Bangladesh 19\n",
    "China\t   143\n",
    "India\t   136\n",
    "USA \t   32\n",
    "\n",
    "i. Using above create a dictionary of countries and its population\n",
    "ii. Write a program that asks user for three type of inputs,\n",
    "    a. print: if user enter print then it should print all countries with their population in this format\n",
    "    china==>143\n",
    "    india==>136\n",
    "    usa==>32\n",
    "    Bangladesh==>19\n",
    "    b. add: if user input add then it should further ask for a country name to add. If country already exist in our dataset then it should print that it exist and do nothing. If it doesn't then it asks for population and add that new country/population in our dictionary and print it\n",
    "    c. remove: when user inputs remove it should ask for a country to remove. If country exist in our dictionary then remove it and print new dictionary using format shown above in (a). Else print that country doesn't exist!\n",
    "    d. query: on this again ask user for which country he or she wants to query. When user inputs that country it will print population of that country."
   ]
  },
  {
   "cell_type": "code",
   "execution_count": 13,
   "id": "a0886047-abb2-47a6-bb4d-ef22b9ea8229",
   "metadata": {},
   "outputs": [
    {
     "data": {
      "text/plain": [
       "{'Bangladesh': 19, 'China': 143, 'India': 136, 'USA': 32}"
      ]
     },
     "execution_count": 13,
     "metadata": {},
     "output_type": "execute_result"
    }
   ],
   "source": [
    "#1.i\n",
    "country = {\n",
    "    \"Bangladesh\":19,\n",
    "    \"China\":143,\n",
    "    \"India\":136,\n",
    "    \"USA\":32\n",
    "}\n",
    "country"
   ]
  },
  {
   "cell_type": "code",
   "execution_count": 21,
   "id": "371c1c6f-1a9c-4b84-afbb-e21bb0905078",
   "metadata": {},
   "outputs": [
    {
     "name": "stdin",
     "output_type": "stream",
     "text": [
      "Type 'print / add / remove/ query' to give the corresponding output the country add\n",
      "Enter the country name to add: India\n",
      "Enter the population for your country:  136\n"
     ]
    },
    {
     "name": "stdout",
     "output_type": "stream",
     "text": [
      "the updated country dict:  {'Bangladesh': 19, 'China': 143, 'USA': 32, 'Pakistan': '21', 'India': '136'}\n"
     ]
    }
   ],
   "source": [
    "#1.ii\n",
    "\n",
    "user = input(\"Type 'print / add / remove/ query' to give the corresponding output the country\")\n",
    "#a\n",
    "if user == 'print':\n",
    "    for k in country:\n",
    "        print(k, \"==>\" , country[k])\n",
    "#b\n",
    "elif user == 'add':\n",
    "    cName = input(\"Enter the country name to add:\")\n",
    "    if cName in country:\n",
    "        print(\"The country is already exist.\")\n",
    "    else:\n",
    "        country[cName]= input(\"Enter the population for your country: \")\n",
    "        print(\"the updated country dict: \", country)\n",
    "#c\n",
    "elif user == \"remove\":\n",
    "    rName = input(\"Enter the country name to remove:\")\n",
    "    if rName in country:\n",
    "        del country[rName]\n",
    "        print(\"the updated country dict: \", country)\n",
    "        \n",
    "    else:\n",
    "        print(\"The country isn't exist.\")\n",
    " #d\n",
    "elif user == \"query\":\n",
    "    qName = input(\"Enter the country name:\")\n",
    "    if qName in country:\n",
    "        print(f\"The population of {qName} is {country[qName]}\")\n",
    "    else:\n",
    "        print(\"Country name is not listed here\")\n",
    "\n",
    "else:\n",
    "    print(\"Wrong user input\")"
   ]
  },
  {
   "cell_type": "code",
   "execution_count": 22,
   "id": "13a759c9-d75b-437a-99e9-ff9269d21da8",
   "metadata": {},
   "outputs": [
    {
     "name": "stdout",
     "output_type": "stream",
     "text": [
      "{'Bangladesh': 19, 'China': 143, 'USA': 32, 'Pakistan': '21', 'India': '136'}\n"
     ]
    }
   ],
   "source": [
    "print(country)\n"
   ]
  },
  {
   "cell_type": "raw",
   "id": "dcc07059-9510-4b42-86aa-163994523340",
   "metadata": {},
   "source": [
    "2. Write circle_calc() function that takes radius of a circle as an input from user and then it calculates and returns area, circumference and diameter. You should get these values in your main program by calling circle_calc function and then print them"
   ]
  },
  {
   "cell_type": "code",
   "execution_count": 32,
   "id": "b8ab5bfe-60a3-47ad-9b80-f6546c9881c2",
   "metadata": {},
   "outputs": [
    {
     "name": "stdin",
     "output_type": "stream",
     "text": [
      "Enter the radius of the circle: 22\n"
     ]
    },
    {
     "name": "stdout",
     "output_type": "stream",
     "text": [
      "The area, circumference and diameter of the circle is respectively: 1520.531 138.230 44.000\n"
     ]
    }
   ],
   "source": [
    "#2\n",
    "import math\n",
    "r = float(input(\"Enter the radius of the circle:\"))\n",
    "def circle_calc(r):\n",
    "    area = math.pi*(r**2)\n",
    "    cir = 2*math.pi*r\n",
    "    d = 2*r\n",
    "\n",
    "    return area, cir, d\n",
    "def main():\n",
    "    area , circumference, diameter = circle_calc(r)\n",
    "    print(\"The area, circumference and diameter of the circle is respectively:\", '%.3f' %area, '%.3f' %circumference, '%.3f' %diameter)\n",
    "\n",
    "if __name__ == '__main__':\n",
    "    main()"
   ]
  },
  {
   "cell_type": "raw",
   "id": "bfc5d915-fe13-4614-9b1f-7c2ca6377c54",
   "metadata": {},
   "source": [
    "#3\n",
    "You are given following list of stocks and their prices in last 3 days,\n",
    "\n",
    "Stock\t  Prices\n",
    "info\t [600,630,620]\n",
    "ril\t     [1430,1490,1567]\n",
    "mtl\t     [234,180,160]\n",
    "i. Write a program that asks user for operation. Value of operations could be,\n",
    "     a. print: When user enters print it should print following,\n",
    "        info ==> [600, 630, 620] ==> avg:  616.67\n",
    "        ril ==> [1430, 1490, 1567] ==> avg:  1495.67\n",
    "        mtl ==> [234, 180, 160] ==> avg:  191.33\n",
    "     b. add: When user enters 'add', it asks for stock ticker and price. If stock already exist in your list (like info, ril etc) then it will append  the price to the list. Otherwise it will create new entry in your dictionary. For example entering 'tata' and 560 will add tata ==> [560] to the dictionary of stocks.\n"
   ]
  },
  {
   "cell_type": "code",
   "execution_count": 39,
   "id": "209f9cec-5201-4dc7-b1c1-f22522efa220",
   "metadata": {},
   "outputs": [
    {
     "name": "stdin",
     "output_type": "stream",
     "text": [
      "Enter operation (print, add or amend): add\n",
      "Enter the stock name tata\n",
      "Enter the price: 3000\n"
     ]
    },
    {
     "ename": "UnboundLocalError",
     "evalue": "cannot access local variable 'stock' where it is not associated with a value",
     "output_type": "error",
     "traceback": [
      "\u001b[1;31m---------------------------------------------------------------------------\u001b[0m",
      "\u001b[1;31mUnboundLocalError\u001b[0m                         Traceback (most recent call last)",
      "Cell \u001b[1;32mIn[39], line 35\u001b[0m\n\u001b[0;32m     32\u001b[0m         \u001b[38;5;28mprint\u001b[39m(\u001b[38;5;124m\"\u001b[39m\u001b[38;5;124mUnsupported operation:\u001b[39m\u001b[38;5;124m\"\u001b[39m,op)\n\u001b[0;32m     34\u001b[0m \u001b[38;5;28;01mif\u001b[39;00m \u001b[38;5;18m__name__\u001b[39m \u001b[38;5;241m==\u001b[39m \u001b[38;5;124m'\u001b[39m\u001b[38;5;124m__main__\u001b[39m\u001b[38;5;124m'\u001b[39m:\n\u001b[1;32m---> 35\u001b[0m     \u001b[43mmain\u001b[49m\u001b[43m(\u001b[49m\u001b[43m)\u001b[49m     \n",
      "Cell \u001b[1;32mIn[39], line 30\u001b[0m, in \u001b[0;36mmain\u001b[1;34m()\u001b[0m\n\u001b[0;32m     28\u001b[0m    Print()\n\u001b[0;32m     29\u001b[0m \u001b[38;5;28;01melif\u001b[39;00m op\u001b[38;5;241m.\u001b[39mlower() \u001b[38;5;241m==\u001b[39m \u001b[38;5;124m'\u001b[39m\u001b[38;5;124madd\u001b[39m\u001b[38;5;124m'\u001b[39m:\n\u001b[1;32m---> 30\u001b[0m     \u001b[43mAdd\u001b[49m\u001b[43m(\u001b[49m\u001b[43m)\u001b[49m\n\u001b[0;32m     31\u001b[0m \u001b[38;5;28;01melse\u001b[39;00m:\n\u001b[0;32m     32\u001b[0m     \u001b[38;5;28mprint\u001b[39m(\u001b[38;5;124m\"\u001b[39m\u001b[38;5;124mUnsupported operation:\u001b[39m\u001b[38;5;124m\"\u001b[39m,op)\n",
      "Cell \u001b[1;32mIn[39], line 19\u001b[0m, in \u001b[0;36mAdd\u001b[1;34m()\u001b[0m\n\u001b[0;32m     17\u001b[0m \u001b[38;5;28;01melse\u001b[39;00m:\n\u001b[0;32m     18\u001b[0m     stock[name] \u001b[38;5;241m=\u001b[39m [price]\n\u001b[1;32m---> 19\u001b[0m \u001b[43mPrint\u001b[49m\u001b[43m(\u001b[49m\u001b[43m)\u001b[49m\n",
      "Cell \u001b[1;32mIn[39], line 10\u001b[0m, in \u001b[0;36mPrint\u001b[1;34m()\u001b[0m\n\u001b[0;32m      8\u001b[0m \u001b[38;5;28;01mdef\u001b[39;00m \u001b[38;5;21mPrint\u001b[39m():\n\u001b[0;32m      9\u001b[0m     \u001b[38;5;28;01mfor\u001b[39;00m k \u001b[38;5;129;01min\u001b[39;00m stock:\n\u001b[1;32m---> 10\u001b[0m         avg \u001b[38;5;241m=\u001b[39m \u001b[43maverage\u001b[49m\u001b[43m(\u001b[49m\u001b[43m)\u001b[49m\n\u001b[0;32m     11\u001b[0m         \u001b[38;5;28mprint\u001b[39m(k, \u001b[38;5;124m\"\u001b[39m\u001b[38;5;124m==>\u001b[39m\u001b[38;5;124m\"\u001b[39m , stock[k], \u001b[38;5;124m\"\u001b[39m\u001b[38;5;124m==> avg:\u001b[39m\u001b[38;5;124m\"\u001b[39m, avg)\n",
      "Cell \u001b[1;32mIn[39], line 21\u001b[0m, in \u001b[0;36maverage\u001b[1;34m()\u001b[0m\n\u001b[0;32m     20\u001b[0m \u001b[38;5;28;01mdef\u001b[39;00m \u001b[38;5;21maverage\u001b[39m():\n\u001b[1;32m---> 21\u001b[0m     \u001b[38;5;28;01mfor\u001b[39;00m stock,price_list \u001b[38;5;129;01min\u001b[39;00m \u001b[43mstock\u001b[49m\u001b[38;5;241m.\u001b[39mitems():\n\u001b[0;32m     22\u001b[0m         avg \u001b[38;5;241m=\u001b[39m statistics\u001b[38;5;241m.\u001b[39mmean(price_list)\n\u001b[0;32m     23\u001b[0m         \u001b[38;5;28mprint\u001b[39m(\u001b[38;5;124mf\u001b[39m\u001b[38;5;124m\"\u001b[39m\u001b[38;5;132;01m{\u001b[39;00mstock\u001b[38;5;132;01m}\u001b[39;00m\u001b[38;5;124m ==> \u001b[39m\u001b[38;5;132;01m{\u001b[39;00mprice_list\u001b[38;5;132;01m}\u001b[39;00m\u001b[38;5;124m ==> avg: \u001b[39m\u001b[38;5;124m\"\u001b[39m,\u001b[38;5;28mround\u001b[39m(avg,\u001b[38;5;241m2\u001b[39m))\n",
      "\u001b[1;31mUnboundLocalError\u001b[0m: cannot access local variable 'stock' where it is not associated with a value"
     ]
    }
   ],
   "source": [
    "import statistics\n",
    "\n",
    "stock = {\n",
    "    \"info\": [600,630,620],\n",
    "    \"ril\":[1430,1490,1567],\n",
    "    \"mtl\":[234,180,160]\n",
    "}\n",
    "def Print():\n",
    "    for k in stock:\n",
    "        avg = average()\n",
    "        print(k, \"==>\" , stock[k], \"==> avg:\", avg)\n",
    "def Add():\n",
    "    name = input(\"Enter the stock name\")\n",
    "    price = float(input(\"Enter the price:\"))\n",
    "    if name in stock:\n",
    "        stock[name].append(price)\n",
    "    else:\n",
    "        stock[name] = [price]\n",
    "    Print()\n",
    "def average():\n",
    "    for stock,price_list in stock.items():\n",
    "        avg = statistics.mean(price_list)\n",
    "        print(f\"{stock} ==> {price_list} ==> avg: \",round(avg,2))\n",
    "        \n",
    "def main():\n",
    "    op=input(\"Enter operation (print, add or amend):\")\n",
    "    if op.lower() == 'print':\n",
    "       Print()\n",
    "    elif op.lower() == 'add':\n",
    "        Add()\n",
    "    else:\n",
    "        print(\"Unsupported operation:\",op)\n",
    "\n",
    "if __name__ == '__main__':\n",
    "    main()     "
   ]
  },
  {
   "cell_type": "code",
   "execution_count": null,
   "id": "8ddd3fd0-a0bb-4137-9877-5dd09aa44040",
   "metadata": {},
   "outputs": [],
   "source": []
  }
 ],
 "metadata": {
  "kernelspec": {
   "display_name": "Python 3 (ipykernel)",
   "language": "python",
   "name": "python3"
  },
  "language_info": {
   "codemirror_mode": {
    "name": "ipython",
    "version": 3
   },
   "file_extension": ".py",
   "mimetype": "text/x-python",
   "name": "python",
   "nbconvert_exporter": "python",
   "pygments_lexer": "ipython3",
   "version": "3.12.0"
  }
 },
 "nbformat": 4,
 "nbformat_minor": 5
}
