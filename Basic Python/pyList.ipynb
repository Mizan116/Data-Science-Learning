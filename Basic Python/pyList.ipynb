{
 "cells": [
  {
   "cell_type": "raw",
   "id": "b0a9ce5f-7c69-4d3b-b61d-3dd72f88dd71",
   "metadata": {},
   "source": [
    "1. Let us say your expense for every month are listed below,\n",
    "    January - 2200\n",
    "    February - 2350\n",
    "    March - 2600\n",
    "    April - 2130\n",
    "    May - 2190\n",
    "Create a list to store these monthly expenses and using that find out,\n",
    "\n",
    "1. In Feb, how many dollars you spent extra compare to January?\n",
    "2. Find out your total expense in first quarter (first three months) of the year.\n",
    "3. Find out if you spent exactly 2000 dollars in any month\n",
    "4. June month just finished and your expense is 1980 dollar. Add this item to our monthly expense list\n",
    "5. You returned an item that you bought in a month of April and\n",
    "got a refund of 200$. Make a correction to your monthly expense list\n",
    "based on this"
   ]
  },
  {
   "cell_type": "code",
   "execution_count": 10,
   "id": "0ab4271d-ca36-45e4-93a0-23a3054ecce9",
   "metadata": {},
   "outputs": [
    {
     "name": "stdout",
     "output_type": "stream",
     "text": [
      "Extra Spend 150 dollar\n",
      "Total Spend in first three months 7150 dollar\n",
      "Did I spend exactly 2000 in any month? False\n",
      "[2200, 2350, 2600, 2130, 2190, 1980]\n",
      "[2200, 2350, 2600, 1930, 2190, 1980]\n"
     ]
    }
   ],
   "source": [
    "expense = [2200, 2350, 2600, 2130, 2190]\n",
    "#1\n",
    "extraSpend = expense[1] - expense[0]\n",
    "print(f'Extra Spend {extraSpend} dollar')\n",
    "#2\n",
    "print(f'Total Spend in first three months {expense[0]+expense[1]+expense[2]} dollar')\n",
    "#3\n",
    "print(\"Did I spend exactly 2000 in any month?\", 2000 in expense)\n",
    "#4\n",
    "expense.append(1980)\n",
    "print(expense)\n",
    "#5\n",
    "expense[3]-=200\n",
    "print(expense)"
   ]
  },
  {
   "cell_type": "raw",
   "id": "24e75382-091a-48d2-af4e-8db97fc47c2a",
   "metadata": {},
   "source": [
    "heros=['spider man','thor','hulk','iron man','captain america']\n",
    "\n",
    "1. Length of the list\n",
    "2. Add 'black panther' at the end of this list\n",
    "3. You realize that you need to add 'black panther' after 'hulk',\n",
    "   so remove it from the list first and then add it after 'hulk'\n",
    "4. Now you don't like thor and hulk because they get angry easily :)\n",
    "   So you want to remove thor and hulk from list and replace them with doctor strange (because he is cool).\n",
    "   Do that with one line of code.\n",
    "5. Sort the heros list in alphabetical order (Hint. Use dir() functions to list down all functions available in list)"
   ]
  },
  {
   "cell_type": "code",
   "execution_count": 48,
   "id": "579a7e7f-14cb-403e-8a1b-88ebbed25e8f",
   "metadata": {},
   "outputs": [
    {
     "data": {
      "text/plain": [
       "['spider man', 'thor', 'hulk', 'iron man', 'captain america', 'Black Panther']"
      ]
     },
     "execution_count": 48,
     "metadata": {},
     "output_type": "execute_result"
    }
   ],
   "source": [
    "#1\n",
    "heros = ['spider man','thor','hulk','iron man','captain america']\n",
    "len(heros)\n",
    "#2\n",
    "heros.append(\"Black Panther\")\n",
    "heros"
   ]
  },
  {
   "cell_type": "code",
   "execution_count": 49,
   "id": "cad96c0e-cbc0-4526-bfd7-6d387c0db94c",
   "metadata": {},
   "outputs": [
    {
     "name": "stdout",
     "output_type": "stream",
     "text": [
      "['spider man', 'thor', 'hulk', 'Black Panther', 'iron man', 'captain america']\n"
     ]
    }
   ],
   "source": [
    "heros.remove(\"Black Panther\")\n",
    "\n",
    "heros.insert(3, \"Black Panther\")\n",
    "print(heros)"
   ]
  },
  {
   "cell_type": "code",
   "execution_count": 50,
   "id": "68203b0a-f1c9-4e11-b02b-9af2beb80a1e",
   "metadata": {},
   "outputs": [
    {
     "data": {
      "text/plain": [
       "['spider man',\n",
       " 'Doctor Strange',\n",
       " 'Black Panther',\n",
       " 'iron man',\n",
       " 'captain america']"
      ]
     },
     "execution_count": 50,
     "metadata": {},
     "output_type": "execute_result"
    }
   ],
   "source": [
    "heros[1:3] = [\"Doctor Strange\"]\n",
    "heros"
   ]
  },
  {
   "cell_type": "code",
   "execution_count": 53,
   "id": "fa203abe-8e74-4db5-a3de-ea47baa36b18",
   "metadata": {},
   "outputs": [
    {
     "data": {
      "text/plain": [
       "['Black Panther',\n",
       " 'Doctor Strange',\n",
       " 'captain america',\n",
       " 'iron man',\n",
       " 'spider man']"
      ]
     },
     "execution_count": 53,
     "metadata": {},
     "output_type": "execute_result"
    }
   ],
   "source": [
    "heros.sort()\n",
    "heros"
   ]
  },
  {
   "cell_type": "code",
   "execution_count": null,
   "id": "d0ae2217-2de5-4c2f-a987-31235b82a847",
   "metadata": {},
   "outputs": [],
   "source": []
  }
 ],
 "metadata": {
  "kernelspec": {
   "display_name": "Python 3 (ipykernel)",
   "language": "python",
   "name": "python3"
  },
  "language_info": {
   "codemirror_mode": {
    "name": "ipython",
    "version": 3
   },
   "file_extension": ".py",
   "mimetype": "text/x-python",
   "name": "python",
   "nbconvert_exporter": "python",
   "pygments_lexer": "ipython3",
   "version": "3.12.0"
  }
 },
 "nbformat": 4,
 "nbformat_minor": 5
}
