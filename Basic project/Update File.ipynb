{
 "cells": [
  {
   "cell_type": "code",
   "execution_count": 8,
   "id": "f97e21c5-194a-4625-86e1-4effea80ef17",
   "metadata": {},
   "outputs": [],
   "source": [
    "import pandas as pd\n",
    "\n",
    "# Load the CSV file\n",
    "df = pd.read_csv('meghnapet.csv')\n",
    "# Drop the 'ID' column\n",
    "df = df.drop(columns=['ID'])\n",
    "\n",
    "# Function to discard first and last lines of the news text\n",
    "def discard_lines(news_text):\n",
    "    lines = news_text.split('\\n')  # Split the text into lines\n",
    "    if len(lines) > 2:\n",
    "        return '\\n'.join(lines[1:-1])  # Return the text without the first and last lines\n",
    "    return ''  # In case the text has less than 2 lines\n",
    "\n",
    "# Apply the function to the 'news' column\n",
    "df['News'] = df['News'].apply(discard_lines)\n",
    "#df = df.drop(columns=['news'])\n",
    "\n",
    "# Save the updated DataFrame back to CSV\n",
    "df.to_csv('meghnapet_updated.csv', index=False)\n"
   ]
  },
  {
   "cell_type": "code",
   "execution_count": null,
   "id": "fa7fc830-00f3-47f0-97da-dc80b0938407",
   "metadata": {},
   "outputs": [],
   "source": []
  }
 ],
 "metadata": {
  "kernelspec": {
   "display_name": "Python 3 (ipykernel)",
   "language": "python",
   "name": "python3"
  },
  "language_info": {
   "codemirror_mode": {
    "name": "ipython",
    "version": 3
   },
   "file_extension": ".py",
   "mimetype": "text/x-python",
   "name": "python",
   "nbconvert_exporter": "python",
   "pygments_lexer": "ipython3",
   "version": "3.13.1"
  }
 },
 "nbformat": 4,
 "nbformat_minor": 5
}
