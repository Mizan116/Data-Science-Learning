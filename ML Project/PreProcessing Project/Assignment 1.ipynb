{
 "cells": [
  {
   "cell_type": "code",
   "execution_count": 78,
   "id": "4965d97c-696f-4b41-a0a2-28e5b44b2e25",
   "metadata": {},
   "outputs": [],
   "source": [
    "import numpy as np\n",
    "import pandas as pd "
   ]
  },
  {
   "cell_type": "code",
   "execution_count": 79,
   "id": "33944e02-5b9a-4b1c-ab55-b3759e8ace9d",
   "metadata": {},
   "outputs": [
    {
     "name": "stdout",
     "output_type": "stream",
     "text": [
      "    Age Marital status   Income  Gender Expense_per_month\n",
      "0  33.0        Married    23000    Male             22000\n",
      "1  -2.0      Unmarried    50000    Male             42000\n",
      "2  45.0      Unmarried    40000    Male             20000\n",
      "3  20.0           Null      200  Female               220\n",
      "4  15.0      Unmarried  unknown    Male             20000\n"
     ]
    }
   ],
   "source": [
    "file_path = 'Income - Sheet1.csv' \n",
    "data = pd.read_csv(file_path)\n",
    "\n",
    "print(data.head())\n"
   ]
  },
  {
   "cell_type": "code",
   "execution_count": 80,
   "id": "ccb30296-7795-4795-b28a-824fd1bb17cc",
   "metadata": {},
   "outputs": [
    {
     "name": "stdout",
     "output_type": "stream",
     "text": [
      "Rows with all null values:\n",
      "    Age Marital status Income Gender Expense_per_month\n",
      "10  NaN            NaN    NaN    NaN               NaN\n"
     ]
    }
   ],
   "source": [
    "# Check rows where all column values are null\n",
    "all_null_rows = data[data.isnull().all(axis=1)]\n",
    "\n",
    "# Display the rows with all null values\n",
    "print(\"Rows with all null values:\")\n",
    "print(all_null_rows)"
   ]
  },
  {
   "cell_type": "code",
   "execution_count": 81,
   "id": "81772266-7f46-413b-b433-af1c632386cb",
   "metadata": {},
   "outputs": [
    {
     "name": "stdout",
     "output_type": "stream",
     "text": [
      "Updated dataset after removing rows with all null values:\n",
      "        Age Marital status    Income  Gender Expense_per_month\n",
      "0      33.0        Married     23000    Male             22000\n",
      "1      -2.0      Unmarried     50000    Male             42000\n",
      "2      45.0      Unmarried     40000    Male             20000\n",
      "3      20.0           Null       200  Female               220\n",
      "4      15.0      Unmarried   unknown    Male             20000\n",
      "5      35.0        Married  -2222222    Male             #####\n",
      "6      23.0        Married     40000  Female             40000\n",
      "7      50.0            NaN   1000000    Male             50000\n",
      "8      75.0        Married         0  Female              2000\n",
      "9       0.0        Married     50000  Female             30000\n",
      "11  10000.0        Married     20000    Male             20000\n",
      "12     29.0      Unmarried     43500  Female             20000\n",
      "13     46.0        Married     46000    Male             30000\n",
      "14     79.0        Married         0    Male              2000\n",
      "15     52.0        Married   2300000  Female            100000\n",
      "16     18.0      Unmarried     25000    Male              1500\n"
     ]
    }
   ],
   "source": [
    "# Drop rows where all column values are null\n",
    "data = data.dropna(how='all')\n",
    "\n",
    "# Display the updated DataFrame\n",
    "print(\"Updated dataset after removing rows with all null values:\")\n",
    "print(data)\n"
   ]
  },
  {
   "cell_type": "code",
   "execution_count": 82,
   "id": "e188fe24-4f53-42b7-9447-298808f2703d",
   "metadata": {},
   "outputs": [
    {
     "name": "stdout",
     "output_type": "stream",
     "text": [
      "Dataset after assigning NaN values for 'Age', 'Income', and 'Expense_per_month':\n",
      "     Age Marital status     Income  Gender  Expense_per_month\n",
      "0   33.0        Married    23000.0    Male            22000.0\n",
      "1    NaN      Unmarried    50000.0    Male            42000.0\n",
      "2   45.0      Unmarried    40000.0    Male            20000.0\n",
      "3   20.0           Null      200.0  Female              220.0\n",
      "4   15.0      Unmarried        NaN    Male            20000.0\n",
      "5   35.0        Married        NaN    Male                NaN\n",
      "6   23.0        Married    40000.0  Female            40000.0\n",
      "7   50.0            NaN  1000000.0    Male            50000.0\n",
      "8   75.0        Married        NaN  Female             2000.0\n",
      "9    NaN        Married    50000.0  Female            30000.0\n",
      "11   NaN        Married    20000.0    Male            20000.0\n",
      "12  29.0      Unmarried    43500.0  Female            20000.0\n",
      "13  46.0        Married    46000.0    Male            30000.0\n",
      "14  79.0        Married        NaN    Male             2000.0\n",
      "15  52.0        Married  2300000.0  Female           100000.0\n",
      "16  18.0      Unmarried    25000.0    Male             1500.0\n"
     ]
    }
   ],
   "source": [
    "# Replace placeholders ('unknown', 'NULL', 'nan', '#####') with NaN in the specified columns\n",
    "col = ['Age', 'Income', 'Expense_per_month']\n",
    "data[col] = data[col].replace(['unknown', 'Null', 'NULL', 'nan', '#####'], pd.NA)\n",
    "\n",
    "# Replace '0', negative values, and values greater than 1000 in 'Age' with NaN\n",
    "for c in col:\n",
    "    data[c] = pd.to_numeric(data[c], errors='coerce')  # Convert to numeric, invalid values become NaN\n",
    "    if c == 'Age':\n",
    "        data[c] = data[c].apply(lambda x: np.nan if x >= 100 or x <= 0 else x)\n",
    "    else:\n",
    "        data[c] = data[c].apply(lambda x: np.nan if x <= 0 else x)\n",
    "\n",
    "# Print the dataset after replacing invalid values with NaN\n",
    "print(\"Dataset after assigning NaN values for 'Age', 'Income', and 'Expense_per_month':\")\n",
    "print(data)\n"
   ]
  },
  {
   "cell_type": "code",
   "execution_count": 83,
   "id": "3b578da1-d88b-49e3-8195-cca0388b94ea",
   "metadata": {},
   "outputs": [
    {
     "name": "stdout",
     "output_type": "stream",
     "text": [
      "     Age Marital status     Income  Gender  Expense_per_month\n",
      "0   33.0        Married    23000.0    Male            22000.0\n",
      "1    NaN      Unmarried    50000.0    Male            42000.0\n",
      "2   45.0      Unmarried    40000.0    Male            20000.0\n",
      "3   20.0            NaN      200.0  Female              220.0\n",
      "4   15.0      Unmarried        NaN    Male            20000.0\n",
      "5   35.0        Married        NaN    Male                NaN\n",
      "6   23.0        Married    40000.0  Female            40000.0\n",
      "7   50.0            NaN  1000000.0    Male            50000.0\n",
      "8   75.0        Married        NaN  Female             2000.0\n",
      "9    NaN        Married    50000.0  Female            30000.0\n",
      "11   NaN        Married    20000.0    Male            20000.0\n",
      "12  29.0      Unmarried    43500.0  Female            20000.0\n",
      "13  46.0        Married    46000.0    Male            30000.0\n",
      "14  79.0        Married        NaN    Male             2000.0\n",
      "15  52.0        Married  2300000.0  Female           100000.0\n",
      "16  18.0      Unmarried    25000.0    Male             1500.0\n"
     ]
    }
   ],
   "source": [
    "# Replace various representations of missing values with NaN\n",
    "data['Marital status'] = data['Marital status'].replace(['unknown', 'null', 'NULL', 'Null'], np.nan)\n",
    "missing_values = data['Marital status'].isnull().sum()\n",
    "\n",
    "print(data)"
   ]
  },
  {
   "cell_type": "code",
   "execution_count": 84,
   "id": "7e7aa47c-2907-4238-b94a-7d702b8f303e",
   "metadata": {},
   "outputs": [
    {
     "name": "stdout",
     "output_type": "stream",
     "text": [
      "     Age Marital status        Income  Gender  Expense_per_month\n",
      "0   33.0        Married  2.300000e+04    Male            22000.0\n",
      "1   40.0      Unmarried  5.000000e+04    Male            42000.0\n",
      "2   45.0      Unmarried  4.000000e+04    Male            20000.0\n",
      "3   20.0            NaN  2.000000e+02  Female              220.0\n",
      "4   15.0      Unmarried  3.031417e+05    Male            20000.0\n",
      "5   35.0        Married  3.031417e+05    Male            26648.0\n",
      "6   23.0        Married  4.000000e+04  Female            40000.0\n",
      "7   50.0            NaN  1.000000e+06    Male            50000.0\n",
      "8   75.0        Married  3.031417e+05  Female             2000.0\n",
      "9   40.0        Married  5.000000e+04  Female            30000.0\n",
      "11  40.0        Married  2.000000e+04    Male            20000.0\n",
      "12  29.0      Unmarried  4.350000e+04  Female            20000.0\n",
      "13  46.0        Married  4.600000e+04    Male            30000.0\n",
      "14  79.0        Married  3.031417e+05    Male             2000.0\n",
      "15  52.0        Married  2.300000e+06  Female           100000.0\n",
      "16  18.0      Unmarried  2.500000e+04    Male             1500.0\n"
     ]
    }
   ],
   "source": [
    "#Mean Imputation as the data column are numerical\n",
    "\n",
    "data['Age'] = data['Age'].fillna(data['Age'].mean())\n",
    "data['Income'] = data['Income'].fillna(data['Income'].mean())\n",
    "data['Expense_per_month'] = data['Expense_per_month'].fillna(data['Expense_per_month'].mean())\n",
    "\n",
    "print(data)"
   ]
  },
  {
   "cell_type": "code",
   "execution_count": 85,
   "id": "e9281bed-ff15-4c5a-8b18-3fe84ddc85f5",
   "metadata": {},
   "outputs": [
    {
     "name": "stdout",
     "output_type": "stream",
     "text": [
      "     Age Marital status        Income  Gender  Expense_per_month\n",
      "0   33.0        Married  2.300000e+04    Male            22000.0\n",
      "1   40.0      Unmarried  5.000000e+04    Male            42000.0\n",
      "2   45.0      Unmarried  4.000000e+04    Male            20000.0\n",
      "3   20.0        Married  2.000000e+02  Female              220.0\n",
      "4   15.0      Unmarried  3.031417e+05    Male            20000.0\n",
      "5   35.0        Married  3.031417e+05    Male            26648.0\n",
      "6   23.0        Married  4.000000e+04  Female            40000.0\n",
      "7   50.0        Married  1.000000e+06    Male            50000.0\n",
      "8   75.0        Married  3.031417e+05  Female             2000.0\n",
      "9   40.0        Married  5.000000e+04  Female            30000.0\n",
      "11  40.0        Married  2.000000e+04    Male            20000.0\n",
      "12  29.0      Unmarried  4.350000e+04  Female            20000.0\n",
      "13  46.0        Married  4.600000e+04    Male            30000.0\n",
      "14  79.0        Married  3.031417e+05    Male             2000.0\n",
      "15  52.0        Married  2.300000e+06  Female           100000.0\n",
      "16  18.0      Unmarried  2.500000e+04    Male             1500.0\n"
     ]
    }
   ],
   "source": [
    "data['Marital status'] = data['Marital status'].fillna(data['Marital status'].mode()[0])\n",
    "\n",
    "print(data)"
   ]
  },
  {
   "cell_type": "code",
   "execution_count": 86,
   "id": "e6810e1e-bfa3-47ed-87f4-cc1542444224",
   "metadata": {},
   "outputs": [
    {
     "name": "stdout",
     "output_type": "stream",
     "text": [
      "     Age        Income  Gender  Expense_per_month  Marital status_Married  \\\n",
      "0   33.0  2.300000e+04    Male            22000.0                    True   \n",
      "1   40.0  5.000000e+04    Male            42000.0                   False   \n",
      "2   45.0  4.000000e+04    Male            20000.0                   False   \n",
      "3   20.0  2.000000e+02  Female              220.0                    True   \n",
      "4   15.0  3.031417e+05    Male            20000.0                   False   \n",
      "5   35.0  3.031417e+05    Male            26648.0                    True   \n",
      "6   23.0  4.000000e+04  Female            40000.0                    True   \n",
      "7   50.0  1.000000e+06    Male            50000.0                    True   \n",
      "8   75.0  3.031417e+05  Female             2000.0                    True   \n",
      "9   40.0  5.000000e+04  Female            30000.0                    True   \n",
      "11  40.0  2.000000e+04    Male            20000.0                    True   \n",
      "12  29.0  4.350000e+04  Female            20000.0                   False   \n",
      "13  46.0  4.600000e+04    Male            30000.0                    True   \n",
      "14  79.0  3.031417e+05    Male             2000.0                    True   \n",
      "15  52.0  2.300000e+06  Female           100000.0                    True   \n",
      "16  18.0  2.500000e+04    Male             1500.0                   False   \n",
      "\n",
      "    Marital status_Unmarried  \n",
      "0                      False  \n",
      "1                       True  \n",
      "2                       True  \n",
      "3                      False  \n",
      "4                       True  \n",
      "5                      False  \n",
      "6                      False  \n",
      "7                      False  \n",
      "8                      False  \n",
      "9                      False  \n",
      "11                     False  \n",
      "12                      True  \n",
      "13                     False  \n",
      "14                     False  \n",
      "15                     False  \n",
      "16                      True  \n"
     ]
    }
   ],
   "source": [
    "data = pd.get_dummies(data, columns=['Marital status'], drop_first=False)\n",
    "\n",
    "print(data)"
   ]
  },
  {
   "cell_type": "code",
   "execution_count": 87,
   "id": "26b3263b-1da3-428a-8c08-d58efb3b7aef",
   "metadata": {},
   "outputs": [
    {
     "name": "stdout",
     "output_type": "stream",
     "text": [
      "    Age         Income  Gender  Expense_per_month  Marital status_Married  \\\n",
      "0  33.0   23000.000000    Male            22000.0                       1   \n",
      "1  40.0   50000.000000    Male            42000.0                       0   \n",
      "2  45.0   40000.000000    Male            20000.0                       0   \n",
      "3  20.0     200.000000  Female              220.0                       1   \n",
      "4  15.0  303141.666667    Male            20000.0                       0   \n",
      "\n",
      "   Marital status_Unmarried  \n",
      "0                         0  \n",
      "1                         1  \n",
      "2                         1  \n",
      "3                         0  \n",
      "4                         1  \n"
     ]
    }
   ],
   "source": [
    "data = data.astype({ 'Marital status_Married': 'int', 'Marital status_Unmarried': 'int'})\n",
    "print(data.head(5))"
   ]
  },
  {
   "cell_type": "code",
   "execution_count": 88,
   "id": "6c1fc152-d22f-4b53-8d64-02e85c49c15f",
   "metadata": {},
   "outputs": [
    {
     "name": "stdout",
     "output_type": "stream",
     "text": [
      "        Age    Income  Gender  Expense_per_month  Marital status_Married  \\\n",
      "0 -0.394249 -0.491353    Male          -0.194827                       1   \n",
      "1  0.000000 -0.443996    Male           0.643499                       0   \n",
      "2  0.281606 -0.461536    Male          -0.278659                       0   \n",
      "3 -1.126425 -0.531343  Female          -1.107764                       1   \n",
      "4 -1.408032  0.000000    Male          -0.278659                       0   \n",
      "\n",
      "   Marital status_Unmarried  \n",
      "0                         0  \n",
      "1                         1  \n",
      "2                         1  \n",
      "3                         0  \n",
      "4                         1  \n"
     ]
    }
   ],
   "source": [
    "from sklearn.preprocessing import StandardScaler\n",
    "scaler = StandardScaler()\n",
    "\n",
    "# Standardize the 'Age' and 'Income' columns\n",
    "data[['Age', 'Income', 'Expense_per_month']] = scaler.fit_transform(data[['Age', 'Income','Expense_per_month']])\n",
    "\n",
    "print(data.head(5))"
   ]
  },
  {
   "cell_type": "code",
   "execution_count": 90,
   "id": "73c04507-b854-461d-abb9-03cbacf8d19d",
   "metadata": {},
   "outputs": [
    {
     "name": "stdout",
     "output_type": "stream",
     "text": [
      "Prepocessed Dataset\n",
      "         Age    Income  Gender  Expense_per_month  Marital status_Married  \\\n",
      "0  -0.394249 -0.491353    Male          -0.194827                       1   \n",
      "1   0.000000 -0.443996    Male           0.643499                       0   \n",
      "2   0.281606 -0.461536    Male          -0.278659                       0   \n",
      "3  -1.126425 -0.531343  Female          -1.107764                       1   \n",
      "4  -1.408032  0.000000    Male          -0.278659                       0   \n",
      "5  -0.281606  0.000000    Male           0.000000                       1   \n",
      "6  -0.957462 -0.461536  Female           0.559666                       1   \n",
      "7   0.563213  1.222250    Male           0.978829                       1   \n",
      "8   1.971245  0.000000  Female          -1.033153                       1   \n",
      "9   0.000000 -0.443996  Female           0.140503                       1   \n",
      "11  0.000000 -0.496614    Male          -0.278659                       1   \n",
      "12 -0.619534 -0.455397  Female          -0.278659                       0   \n",
      "13  0.337928 -0.451012    Male           0.140503                       1   \n",
      "14  2.196530  0.000000    Male          -1.033153                       1   \n",
      "15  0.675855  3.502376  Female           3.074644                       1   \n",
      "16 -1.239068 -0.487845    Male          -1.054111                       0   \n",
      "\n",
      "    Marital status_Unmarried  \n",
      "0                          0  \n",
      "1                          1  \n",
      "2                          1  \n",
      "3                          0  \n",
      "4                          1  \n",
      "5                          0  \n",
      "6                          0  \n",
      "7                          0  \n",
      "8                          0  \n",
      "9                          0  \n",
      "11                         0  \n",
      "12                         1  \n",
      "13                         0  \n",
      "14                         0  \n",
      "15                         0  \n",
      "16                         1  \n"
     ]
    }
   ],
   "source": [
    "print(\"Prepocessed Dataset\")\n",
    "print(data)"
   ]
  },
  {
   "cell_type": "code",
   "execution_count": null,
   "id": "44a02877-1d34-452e-a6db-b8bda7579167",
   "metadata": {},
   "outputs": [],
   "source": []
  }
 ],
 "metadata": {
  "kernelspec": {
   "display_name": "Python 3 (ipykernel)",
   "language": "python",
   "name": "python3"
  },
  "language_info": {
   "codemirror_mode": {
    "name": "ipython",
    "version": 3
   },
   "file_extension": ".py",
   "mimetype": "text/x-python",
   "name": "python",
   "nbconvert_exporter": "python",
   "pygments_lexer": "ipython3",
   "version": "3.13.1"
  }
 },
 "nbformat": 4,
 "nbformat_minor": 5
}
